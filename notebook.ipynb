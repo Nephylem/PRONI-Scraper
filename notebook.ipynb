{
 "cells": [
  {
   "cell_type": "code",
   "execution_count": 10,
   "metadata": {},
   "outputs": [],
   "source": [
    "import pandas as pd\n",
    "import numpy as np \n",
    "import re\n",
    "\n",
    "import matplotlib.pyplot as plt\n",
    "import seaborn as sns"
   ]
  },
  {
   "cell_type": "code",
   "execution_count": 6,
   "metadata": {},
   "outputs": [],
   "source": [
    "AL = pd.read_csv('A-L.csv')\n",
    "MZ = pd.read_csv('M-Z.csv')"
   ]
  },
  {
   "cell_type": "code",
   "execution_count": 15,
   "metadata": {},
   "outputs": [
    {
     "data": {
      "text/html": [
       "<div>\n",
       "<style scoped>\n",
       "    .dataframe tbody tr th:only-of-type {\n",
       "        vertical-align: middle;\n",
       "    }\n",
       "\n",
       "    .dataframe tbody tr th {\n",
       "        vertical-align: top;\n",
       "    }\n",
       "\n",
       "    .dataframe thead th {\n",
       "        text-align: right;\n",
       "    }\n",
       "</style>\n",
       "<table border=\"1\" class=\"dataframe\">\n",
       "  <thead>\n",
       "    <tr style=\"text-align: right;\">\n",
       "      <th></th>\n",
       "      <th>PLACE NAME</th>\n",
       "      <th>URBAN</th>\n",
       "      <th>TOWNLAND</th>\n",
       "      <th>PARISH</th>\n",
       "      <th>COUNTY</th>\n",
       "      <th>DATE FROM</th>\n",
       "      <th>DATE TO</th>\n",
       "      <th>PRONI REFERENCE</th>\n",
       "      <th>IMG URLS</th>\n",
       "      <th>IMAGES COUNT</th>\n",
       "    </tr>\n",
       "  </thead>\n",
       "  <tbody>\n",
       "    <tr>\n",
       "      <th>0</th>\n",
       "      <td>Ballintaggart</td>\n",
       "      <td>-</td>\n",
       "      <td>Ballintaggart</td>\n",
       "      <td>Aghaderg</td>\n",
       "      <td>Down</td>\n",
       "      <td>1864</td>\n",
       "      <td>1874</td>\n",
       "      <td>VAL/12/B/16/18A</td>\n",
       "      <td>['https://apps.proni.gov.uk/DCAL_PRONI_Val12b/...</td>\n",
       "      <td>3</td>\n",
       "    </tr>\n",
       "    <tr>\n",
       "      <th>1</th>\n",
       "      <td>Glenloughan</td>\n",
       "      <td>-</td>\n",
       "      <td>Glenloughan</td>\n",
       "      <td>Aghaderg</td>\n",
       "      <td>Down</td>\n",
       "      <td>1909</td>\n",
       "      <td>1929</td>\n",
       "      <td>VAL/12/B/16/22D</td>\n",
       "      <td>['https://apps.proni.gov.uk/DCAL_PRONI_Val12b/...</td>\n",
       "      <td>3</td>\n",
       "    </tr>\n",
       "    <tr>\n",
       "      <th>2</th>\n",
       "      <td>Greenan</td>\n",
       "      <td>-</td>\n",
       "      <td>Greenan</td>\n",
       "      <td>Aghaderg</td>\n",
       "      <td>Down</td>\n",
       "      <td>1864</td>\n",
       "      <td>1874</td>\n",
       "      <td>VAL/12/B/16/18A</td>\n",
       "      <td>['https://apps.proni.gov.uk/DCAL_PRONI_Val12b/...</td>\n",
       "      <td>3</td>\n",
       "    </tr>\n",
       "    <tr>\n",
       "      <th>3</th>\n",
       "      <td>Greenan</td>\n",
       "      <td>-</td>\n",
       "      <td>Greenan</td>\n",
       "      <td>Aghaderg</td>\n",
       "      <td>Down</td>\n",
       "      <td>1874</td>\n",
       "      <td>1890</td>\n",
       "      <td>VAL/12/B/16/18B</td>\n",
       "      <td>['https://apps.proni.gov.uk/DCAL_PRONI_Val12b/...</td>\n",
       "      <td>3</td>\n",
       "    </tr>\n",
       "    <tr>\n",
       "      <th>4</th>\n",
       "      <td>Greenan</td>\n",
       "      <td>-</td>\n",
       "      <td>Greenan</td>\n",
       "      <td>Aghaderg</td>\n",
       "      <td>Down</td>\n",
       "      <td>1891</td>\n",
       "      <td>1908</td>\n",
       "      <td>VAL/12/B/16/18C</td>\n",
       "      <td>['https://apps.proni.gov.uk/DCAL_PRONI_Val12b/...</td>\n",
       "      <td>3</td>\n",
       "    </tr>\n",
       "  </tbody>\n",
       "</table>\n",
       "</div>"
      ],
      "text/plain": [
       "      PLACE NAME URBAN       TOWNLAND    PARISH COUNTY  DATE FROM  DATE TO  \\\n",
       "0  Ballintaggart     -  Ballintaggart  Aghaderg   Down       1864     1874   \n",
       "1    Glenloughan     -    Glenloughan  Aghaderg   Down       1909     1929   \n",
       "2        Greenan     -        Greenan  Aghaderg   Down       1864     1874   \n",
       "3        Greenan     -        Greenan  Aghaderg   Down       1874     1890   \n",
       "4        Greenan     -        Greenan  Aghaderg   Down       1891     1908   \n",
       "\n",
       "   PRONI REFERENCE                                           IMG URLS  \\\n",
       "0  VAL/12/B/16/18A  ['https://apps.proni.gov.uk/DCAL_PRONI_Val12b/...   \n",
       "1  VAL/12/B/16/22D  ['https://apps.proni.gov.uk/DCAL_PRONI_Val12b/...   \n",
       "2  VAL/12/B/16/18A  ['https://apps.proni.gov.uk/DCAL_PRONI_Val12b/...   \n",
       "3  VAL/12/B/16/18B  ['https://apps.proni.gov.uk/DCAL_PRONI_Val12b/...   \n",
       "4  VAL/12/B/16/18C  ['https://apps.proni.gov.uk/DCAL_PRONI_Val12b/...   \n",
       "\n",
       "   IMAGES COUNT  \n",
       "0             3  \n",
       "1             3  \n",
       "2             3  \n",
       "3             3  \n",
       "4             3  "
      ]
     },
     "execution_count": 15,
     "metadata": {},
     "output_type": "execute_result"
    }
   ],
   "source": [
    "AL.head()"
   ]
  },
  {
   "cell_type": "code",
   "execution_count": 13,
   "metadata": {},
   "outputs": [],
   "source": [
    "def imgcount_column(dataframe):\n",
    "    pattern = re.compile(\"http[s]*\\S+\\s\\S+g\")\n",
    "    img_links = dataframe['IMG URLS']\n",
    "    dataframe['IMAGES COUNT'] = [len(pattern.findall(link)) for link in img_links]\n",
    "    return dataframe"
   ]
  },
  {
   "cell_type": "code",
   "execution_count": 34,
   "metadata": {},
   "outputs": [],
   "source": [
    "count_AL = imgcount_column(AL)\n",
    "count_MZ = imgcount_column(MZ)\n",
    "\n",
    "count_AL = count_AL.drop(columns=['IMG URLS'])\n",
    "count_MZ = count_MZ.drop(columns=['IMG URLS'])\n",
    "\n",
    "count_AL.to_csv('count_A-L.csv', index=False)\n",
    "count_MZ.to_csv('count_M-Z.csv', index=False)"
   ]
  },
  {
   "cell_type": "code",
   "execution_count": 42,
   "metadata": {},
   "outputs": [],
   "source": [
    "merged_data = pd.concat([count_AL, count_MZ], ignore_index=True)\n",
    "\n",
    "columns = merged_data.columns[merged_data.columns != 'IMAGES COUNT']\n",
    "\n",
    "\n",
    "for column in columns: \n",
    "    data = pd.DataFrame(merged_data[column].value_counts())\n",
    "    data.to_csv(f\"breakdown/{column}_total.csv\")\n"
   ]
  }
 ],
 "metadata": {
  "kernelspec": {
   "display_name": "Python 3.10.5 ('env': venv)",
   "language": "python",
   "name": "python3"
  },
  "language_info": {
   "codemirror_mode": {
    "name": "ipython",
    "version": 3
   },
   "file_extension": ".py",
   "mimetype": "text/x-python",
   "name": "python",
   "nbconvert_exporter": "python",
   "pygments_lexer": "ipython3",
   "version": "3.10.5"
  },
  "orig_nbformat": 4,
  "vscode": {
   "interpreter": {
    "hash": "211fc23bb66a84b5427edaf8f616d16998258fdfa3f920df52a2174d379c607a"
   }
  }
 },
 "nbformat": 4,
 "nbformat_minor": 2
}
